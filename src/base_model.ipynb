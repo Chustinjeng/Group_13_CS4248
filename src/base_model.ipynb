{
 "cells": [
  {
   "cell_type": "markdown",
   "metadata": {},
   "source": [
    "# Instructions to use this notebook\n",
    "This notebook follows steps from https://huggingface.co/learn/nlp-course/chapter7/7?fw=pt\n",
    "\n",
    "There are 2 other important files in the same folder:\n",
    "- model.py (contains our custom model architecture)\n",
    "- utils.py (contains our preprocessing and metric functions)\n",
    "\n",
    "If you want to define your custom dense layers at the end, you should only make changes to `CustomDenseLayers` class in `model.py`"
   ]
  },
  {
   "cell_type": "markdown",
   "metadata": {},
   "source": [
    "# Install & Import necessary libraries"
   ]
  },
  {
   "cell_type": "code",
   "execution_count": 4,
   "metadata": {},
   "outputs": [
    {
     "name": "stdout",
     "output_type": "stream",
     "text": [
      "Requirement already satisfied: datasets in c:\\users\\jian cheng\\appdata\\local\\programs\\python\\python39\\lib\\site-packages (2.14.6)\n",
      "Requirement already satisfied: transformers in c:\\users\\jian cheng\\appdata\\local\\programs\\python\\python39\\lib\\site-packages (4.34.1)\n",
      "Requirement already satisfied: accelerate in c:\\users\\jian cheng\\appdata\\local\\programs\\python\\python39\\lib\\site-packages (0.24.0)\n",
      "Requirement already satisfied: evaluate in c:\\users\\jian cheng\\appdata\\local\\programs\\python\\python39\\lib\\site-packages (0.4.1)\n",
      "Requirement already satisfied: requests>=2.19.0 in c:\\users\\jian cheng\\appdata\\local\\programs\\python\\python39\\lib\\site-packages (from datasets) (2.25.1)\n",
      "Requirement already satisfied: numpy>=1.17 in c:\\users\\jian cheng\\appdata\\local\\programs\\python\\python39\\lib\\site-packages (from datasets) (1.25.2)\n",
      "Requirement already satisfied: multiprocess in c:\\users\\jian cheng\\appdata\\local\\programs\\python\\python39\\lib\\site-packages (from datasets) (0.70.15)\n",
      "Requirement already satisfied: aiohttp in c:\\users\\jian cheng\\appdata\\local\\programs\\python\\python39\\lib\\site-packages (from datasets) (3.8.6)\n",
      "Requirement already satisfied: fsspec[http]<=2023.10.0,>=2023.1.0 in c:\\users\\jian cheng\\appdata\\local\\programs\\python\\python39\\lib\\site-packages (from datasets) (2023.10.0)\n",
      "Requirement already satisfied: packaging in c:\\users\\jian cheng\\appdata\\local\\programs\\python\\python39\\lib\\site-packages (from datasets) (20.9)\n",
      "Requirement already satisfied: tqdm>=4.62.1 in c:\\users\\jian cheng\\appdata\\local\\programs\\python\\python39\\lib\\site-packages (from datasets) (4.66.1)\n",
      "Requirement already satisfied: huggingface-hub<1.0.0,>=0.14.0 in c:\\users\\jian cheng\\appdata\\local\\programs\\python\\python39\\lib\\site-packages (from datasets) (0.17.3)\n",
      "Requirement already satisfied: pandas in c:\\users\\jian cheng\\appdata\\local\\programs\\python\\python39\\lib\\site-packages (from datasets) (2.1.2)\n",
      "Requirement already satisfied: dill<0.3.8,>=0.3.0 in c:\\users\\jian cheng\\appdata\\local\\programs\\python\\python39\\lib\\site-packages (from datasets) (0.3.7)\n",
      "Requirement already satisfied: xxhash in c:\\users\\jian cheng\\appdata\\local\\programs\\python\\python39\\lib\\site-packages (from datasets) (3.4.1)\n",
      "Requirement already satisfied: pyyaml>=5.1 in c:\\users\\jian cheng\\appdata\\local\\programs\\python\\python39\\lib\\site-packages (from datasets) (6.0.1)\n",
      "Requirement already satisfied: pyarrow>=8.0.0 in c:\\users\\jian cheng\\appdata\\local\\programs\\python\\python39\\lib\\site-packages (from datasets) (13.0.0)\n",
      "Requirement already satisfied: aiosignal>=1.1.2 in c:\\users\\jian cheng\\appdata\\local\\programs\\python\\python39\\lib\\site-packages (from aiohttp->datasets) (1.3.1)\n",
      "Requirement already satisfied: async-timeout<5.0,>=4.0.0a3 in c:\\users\\jian cheng\\appdata\\local\\programs\\python\\python39\\lib\\site-packages (from aiohttp->datasets) (4.0.3)\n",
      "Requirement already satisfied: yarl<2.0,>=1.0 in c:\\users\\jian cheng\\appdata\\local\\programs\\python\\python39\\lib\\site-packages (from aiohttp->datasets) (1.9.2)\n",
      "Requirement already satisfied: attrs>=17.3.0 in c:\\users\\jian cheng\\appdata\\local\\programs\\python\\python39\\lib\\site-packages (from aiohttp->datasets) (20.3.0)\n",
      "Requirement already satisfied: multidict<7.0,>=4.5 in c:\\users\\jian cheng\\appdata\\local\\programs\\python\\python39\\lib\\site-packages (from aiohttp->datasets) (6.0.4)\n",
      "Requirement already satisfied: frozenlist>=1.1.1 in c:\\users\\jian cheng\\appdata\\local\\programs\\python\\python39\\lib\\site-packages (from aiohttp->datasets) (1.4.0)\n",
      "Requirement already satisfied: charset-normalizer<4.0,>=2.0 in c:\\users\\jian cheng\\appdata\\local\\programs\\python\\python39\\lib\\site-packages (from aiohttp->datasets) (3.3.1)\n",
      "Requirement already satisfied: typing-extensions>=3.7.4.3 in c:\\users\\jian cheng\\appdata\\local\\programs\\python\\python39\\lib\\site-packages (from huggingface-hub<1.0.0,>=0.14.0->datasets) (4.7.1)\n",
      "Requirement already satisfied: filelock in c:\\users\\jian cheng\\appdata\\local\\programs\\python\\python39\\lib\\site-packages (from huggingface-hub<1.0.0,>=0.14.0->datasets) (3.12.4)\n",
      "Requirement already satisfied: pyparsing>=2.0.2 in c:\\users\\jian cheng\\appdata\\local\\programs\\python\\python39\\lib\\site-packages (from packaging->datasets) (2.4.7)\n",
      "Requirement already satisfied: chardet<5,>=3.0.2 in c:\\users\\jian cheng\\appdata\\local\\programs\\python\\python39\\lib\\site-packages (from requests>=2.19.0->datasets) (4.0.0)\n",
      "Requirement already satisfied: certifi>=2017.4.17 in c:\\users\\jian cheng\\appdata\\local\\programs\\python\\python39\\lib\\site-packages (from requests>=2.19.0->datasets) (2020.12.5)\n",
      "Requirement already satisfied: urllib3<1.27,>=1.21.1 in c:\\users\\jian cheng\\appdata\\local\\programs\\python\\python39\\lib\\site-packages (from requests>=2.19.0->datasets) (1.26.4)\n",
      "Requirement already satisfied: idna<3,>=2.5 in c:\\users\\jian cheng\\appdata\\local\\programs\\python\\python39\\lib\\site-packages (from requests>=2.19.0->datasets) (2.10)\n",
      "Requirement already satisfied: colorama in c:\\users\\jian cheng\\appdata\\local\\programs\\python\\python39\\lib\\site-packages (from tqdm>=4.62.1->datasets) (0.4.4)\n",
      "Requirement already satisfied: safetensors>=0.3.1 in c:\\users\\jian cheng\\appdata\\local\\programs\\python\\python39\\lib\\site-packages (from transformers) (0.4.0)\n",
      "Requirement already satisfied: regex!=2019.12.17 in c:\\users\\jian cheng\\appdata\\local\\programs\\python\\python39\\lib\\site-packages (from transformers) (2023.10.3)\n",
      "Requirement already satisfied: tokenizers<0.15,>=0.14 in c:\\users\\jian cheng\\appdata\\local\\programs\\python\\python39\\lib\\site-packages (from transformers) (0.14.1)\n",
      "Requirement already satisfied: psutil in c:\\users\\jian cheng\\appdata\\local\\programs\\python\\python39\\lib\\site-packages (from accelerate) (5.9.6)\n",
      "Requirement already satisfied: torch>=1.10.0 in c:\\users\\jian cheng\\appdata\\local\\programs\\python\\python39\\lib\\site-packages (from accelerate) (2.0.1)\n",
      "Requirement already satisfied: networkx in c:\\users\\jian cheng\\appdata\\local\\programs\\python\\python39\\lib\\site-packages (from torch>=1.10.0->accelerate) (3.1)\n",
      "Requirement already satisfied: jinja2 in c:\\users\\jian cheng\\appdata\\local\\programs\\python\\python39\\lib\\site-packages (from torch>=1.10.0->accelerate) (2.11.3)\n",
      "Requirement already satisfied: sympy in c:\\users\\jian cheng\\appdata\\local\\programs\\python\\python39\\lib\\site-packages (from torch>=1.10.0->accelerate) (1.12)\n",
      "Requirement already satisfied: responses<0.19 in c:\\users\\jian cheng\\appdata\\local\\programs\\python\\python39\\lib\\site-packages (from evaluate) (0.18.0)\n",
      "Requirement already satisfied: MarkupSafe>=0.23 in c:\\users\\jian cheng\\appdata\\local\\programs\\python\\python39\\lib\\site-packages (from jinja2->torch>=1.10.0->accelerate) (1.1.1)\n",
      "Requirement already satisfied: pytz>=2020.1 in c:\\users\\jian cheng\\appdata\\local\\programs\\python\\python39\\lib\\site-packages (from pandas->datasets) (2021.1)\n",
      "Requirement already satisfied: python-dateutil>=2.8.2 in c:\\users\\jian cheng\\appdata\\local\\programs\\python\\python39\\lib\\site-packages (from pandas->datasets) (2.8.2)\n",
      "Requirement already satisfied: tzdata>=2022.1 in c:\\users\\jian cheng\\appdata\\local\\programs\\python\\python39\\lib\\site-packages (from pandas->datasets) (2023.3)\n",
      "Requirement already satisfied: six>=1.5 in c:\\users\\jian cheng\\appdata\\local\\programs\\python\\python39\\lib\\site-packages (from python-dateutil>=2.8.2->pandas->datasets) (1.15.0)\n",
      "Requirement already satisfied: mpmath>=0.19 in c:\\users\\jian cheng\\appdata\\local\\programs\\python\\python39\\lib\\site-packages (from sympy->torch>=1.10.0->accelerate) (1.3.0)\n"
     ]
    },
    {
     "name": "stderr",
     "output_type": "stream",
     "text": [
      "WARNING: You are using pip version 21.1.2; however, version 23.3.1 is available.\n",
      "You should consider upgrading via the 'c:\\users\\jian cheng\\appdata\\local\\programs\\python\\python39\\python.exe -m pip install --upgrade pip' command.\n"
     ]
    }
   ],
   "source": [
    "# Install Hugging Face libraries\n",
    "! pip install datasets transformers accelerate evaluate"
   ]
  },
  {
   "cell_type": "code",
   "execution_count": 5,
   "metadata": {},
   "outputs": [],
   "source": [
    "# Import Std and Huggingface libraries\n",
    "from tqdm.auto import tqdm\n",
    "import numpy as np\n",
    "\n",
    "import torch\n",
    "from torch.optim import AdamW\n",
    "from torch.utils.data import DataLoader\n",
    "\n",
    "from datasets import load_dataset\n",
    "from transformers import default_data_collator, get_scheduler\n",
    "from transformers import AutoTokenizer\n",
    "from accelerate import Accelerator"
   ]
  },
  {
   "cell_type": "markdown",
   "metadata": {},
   "source": [
    "Please RERUN the below cell whenever you make changes to `model.py` or `utils.py` file."
   ]
  },
  {
   "cell_type": "code",
   "execution_count": 6,
   "metadata": {},
   "outputs": [],
   "source": [
    "# Import custom models and helper functions\n",
    "%load_ext autoreload\n",
    "%autoreload 2\n",
    "from model import DistilBertCustomDense\n",
    "import utils"
   ]
  },
  {
   "cell_type": "code",
   "execution_count": 7,
   "metadata": {},
   "outputs": [],
   "source": [
    "raw_datasets = load_dataset(\"squad\", split=\"validation\")"
   ]
  },
  {
   "cell_type": "code",
   "execution_count": 8,
   "metadata": {},
   "outputs": [
    {
     "name": "stdout",
     "output_type": "stream",
     "text": [
      "(10570, 5)\n"
     ]
    }
   ],
   "source": [
    "print(raw_datasets.shape)"
   ]
  },
  {
   "cell_type": "code",
   "execution_count": 9,
   "metadata": {},
   "outputs": [
    {
     "name": "stdout",
     "output_type": "stream",
     "text": [
      "Category 'who': 9068 questions\n",
      "Category 'what': 54882 questions\n",
      "Category 'when': 5599 questions\n",
      "Category 'undefined': 4179 questions\n",
      "Category 'how m/m': 6053 questions\n",
      "Category 'where': 3601 questions\n",
      "Category 'what time': 129 questions\n",
      "Category 'date': 800 questions\n",
      "Category 'during': 1708 questions\n",
      "Category 'how big/size': 104 questions\n",
      "Category 'how old': 111 questions\n",
      "Category 'why': 1183 questions\n",
      "Category 'how are': 182 questions\n"
     ]
    }
   ],
   "source": [
    "from datasets import load_dataset\n",
    "\n",
    "# Define a function to categorize questions\n",
    "def categorize_question(example):\n",
    "    question = example['question'].lower()\n",
    "    if 'date' in question:\n",
    "        return 'date'\n",
    "    if 'during' in question:\n",
    "        return 'during'\n",
    "    if 'how are' in question:\n",
    "        return 'how are'\n",
    "    if 'how big' in question or 'how large' in question:\n",
    "        return 'how big/size'\n",
    "    if 'how many' in question or 'how much' in question:\n",
    "        return 'how m/m'\n",
    "    if 'how old' in question:\n",
    "        return 'how old'\n",
    "    if 'what time' in question:\n",
    "        return 'what time'\n",
    "    if 'what' in question or 'which' in question:\n",
    "        return 'what'\n",
    "    if 'when' in question:\n",
    "        return 'when'\n",
    "    if 'where' in question:\n",
    "        return 'where'\n",
    "    if 'who' in question:\n",
    "        return 'who'\n",
    "    if 'whom' in question:\n",
    "        return 'whom'\n",
    "    if 'why' in question:\n",
    "        return 'why'\n",
    "    else:\n",
    "        return 'undefined'\n",
    "\n",
    "def main():\n",
    "    # Load the SQuAD dataset\n",
    "    dataset = load_dataset('squad', split='train')\n",
    "\n",
    "    # Add a new field for question categories\n",
    "    dataset = dataset.map(lambda example: {\"category\": categorize_question(example)})\n",
    "\n",
    "    # Split the dataset into categories\n",
    "    categories = dataset.unique('category')\n",
    "    categorized_datasets = {category: dataset.filter(lambda example: example['category'] == category) for category in categories}\n",
    "\n",
    "    # Print out the size of each categorized dataset\n",
    "    for category, subset in categorized_datasets.items():\n",
    "        print(f\"Category '{category}': {len(subset)} questions\")\n",
    "\n",
    "    # If you want to save these subsets, you can do so like this:\n",
    "    # for category, subset in categorized_datasets.items():\n",
    "    #     subset.to_csv(f'squad_{category}.csv')\n",
    "\n",
    "if __name__ == \"__main__\":\n",
    "    main()\n"
   ]
  },
  {
   "cell_type": "code",
   "execution_count": 10,
   "metadata": {},
   "outputs": [
    {
     "data": {
      "image/png": "[encoded data removed]",
      "text/plain": [
       "<Figure size 720x576 with 1 Axes>"
      ]
     },
     "metadata": {
      "needs_background": "light"
     },
     "output_type": "display_data"
    }
   ],
   "source": [
    "categories = ['who', 'what', 'when', 'undefined', 'how m/m', 'where', 'what time', 'date', 'during', 'how big/size', 'how old', 'why', 'how are']\n",
    "questions = [9068, 54882, 5599, 4179, 6035, 3601, 129, 800, 1708, 104, 111, 1183, 182]\n",
    "\n",
    "# Calculate total number of questions\n",
    "total_questions = sum(questions)\n",
    "\n",
    "# Calculate percentages for each category\n",
    "percentages = [(q / total_questions) * 100 for q in questions]\n",
    "\n",
    "# Now we plot the percentages on the bar chart using Matplotlib\n",
    "import matplotlib.pyplot as plt\n",
    "\n",
    "plt.figure(figsize=(10,8))\n",
    "plt.bar(categories, percentages, color='skyblue')\n",
    "\n",
    "# Adding the percentage values on top of the bars\n",
    "for i, (category, percentage) in enumerate(zip(categories, percentages)):\n",
    "    plt.text(i, percentage + 0.5, f'{percentage:.1f}%', ha='center', va='bottom')\n",
    "\n",
    "plt.xlabel('Category')\n",
    "plt.ylabel('Percentage of Total Questions')\n",
    "plt.title('Percentage of Total Questions by Category')\n",
    "plt.xticks(rotation=45, ha='right')\n",
    "plt.tight_layout()\n",
    "plt.show()\n"
   ]
  },
  {
   "cell_type": "markdown",
   "metadata": {},
   "source": [
    "# Set seed and global variables"
   ]
  },
  {
   "cell_type": "code",
   "execution_count": 11,
   "metadata": {},
   "outputs": [],
   "source": [
    "### Set seed\n",
    "torch.manual_seed(42)\n",
    "np.random.seed(42)"
   ]
  },
  {
   "cell_type": "code",
   "execution_count": 12,
   "metadata": {},
   "outputs": [],
   "source": [
    "### Global configuration\n",
    "CONFIG = {\n",
    "    # For pretrained weight\n",
    "    \"model_checkpoint\": \"distilbert-base-uncased\", # specify pretrained weight from hugging face to use\n",
    "    # For data preprocessing\n",
    "    \"max_length\": 384,\n",
    "    \"stride\": 128,\n",
    "    # For training\n",
    "    \"batch_size\": 32,\n",
    "    \"num_train_epochs\": 2,\n",
    "    \"output_dir\": \"frozen-distilbert-custom\", # specify output directory to save model\n",
    "    # For evaluation\n",
    "    \"n_best\": 20,\n",
    "    \"max_answer_length\": 30\n",
    "}"
   ]
  },
  {
   "cell_type": "code",
   "execution_count": 13,
   "metadata": {},
   "outputs": [
    {
     "data": {
      "application/vnd.jupyter.widget-view+json": {
       "model_id": "6ca9ff9d384346d8a68794bb37dce86f",
       "version_major": 2,
       "version_minor": 0
      },
      "text/plain": [
       "Downloading (…)okenizer_config.json:   0%|          | 0.00/28.0 [00:00<?, ?B/s]"
      ]
     },
     "metadata": {},
     "output_type": "display_data"
    },
    {
     "name": "stderr",
     "output_type": "stream",
     "text": [
      "c:\\Users\\Jian Cheng\\AppData\\Local\\Programs\\Python\\Python39\\lib\\site-packages\\huggingface_hub\\file_download.py:137: UserWarning: `huggingface_hub` cache-system uses symlinks by default to efficiently store duplicated files but your machine does not support them in C:\\Users\\Jian Cheng\\.cache\\huggingface\\hub. Caching files will still work but in a degraded version that might require more space on your disk. This warning can be disabled by setting the `HF_HUB_DISABLE_SYMLINKS_WARNING` environment variable. For more details, see https://huggingface.co/docs/huggingface_hub/how-to-cache#limitations.\n",
      "To support symlinks on Windows, you either need to activate Developer Mode or to run Python as an administrator. In order to see activate developer mode, see this article: https://docs.microsoft.com/en-us/windows/apps/get-started/enable-your-device-for-development\n",
      "  warnings.warn(message)\n"
     ]
    },
    {
     "data": {
      "application/vnd.jupyter.widget-view+json": {
       "model_id": "ddc5bbf96a37464e9c2a7832b473d45d",
       "version_major": 2,
       "version_minor": 0
      },
      "text/plain": [
       "Downloading (…)lve/main/config.json:   0%|          | 0.00/483 [00:00<?, ?B/s]"
      ]
     },
     "metadata": {},
     "output_type": "display_data"
    },
    {
     "data": {
      "application/vnd.jupyter.widget-view+json": {
       "model_id": "c5fea049a78e42ee8472b8533d66de3f",
       "version_major": 2,
       "version_minor": 0
      },
      "text/plain": [
       "Downloading (…)solve/main/vocab.txt:   0%|          | 0.00/232k [00:00<?, ?B/s]"
      ]
     },
     "metadata": {},
     "output_type": "display_data"
    },
    {
     "data": {
      "application/vnd.jupyter.widget-view+json": {
       "model_id": "92a59bbbcc0046708d12b70d0bfa65aa",
       "version_major": 2,
       "version_minor": 0
      },
      "text/plain": [
       "Downloading (…)/main/tokenizer.json:   0%|          | 0.00/466k [00:00<?, ?B/s]"
      ]
     },
     "metadata": {},
     "output_type": "display_data"
    }
   ],
   "source": [
    "### Load tokenizer\n",
    "tokenizer = AutoTokenizer.from_pretrained(CONFIG[\"model_checkpoint\"])"
   ]
  },
  {
   "cell_type": "markdown",
   "metadata": {},
   "source": [
    "# Data preprocessing and preparation"
   ]
  },
  {
   "cell_type": "markdown",
   "metadata": {},
   "source": [
    "## Preprocess and preparing training dataset"
   ]
  },
  {
   "cell_type": "code",
   "execution_count": 14,
   "metadata": {},
   "outputs": [],
   "source": [
    "raw_datasets = load_dataset(\"squad\")"
   ]
  },
  {
   "cell_type": "code",
   "execution_count": 15,
   "metadata": {},
   "outputs": [
    {
     "data": {
      "application/vnd.jupyter.widget-view+json": {
       "model_id": "06d85f220c8f436d9cdb5722532bdc20",
       "version_major": 2,
       "version_minor": 0
      },
      "text/plain": [
       "Map:   0%|          | 0/87599 [00:00<?, ? examples/s]"
      ]
     },
     "metadata": {},
     "output_type": "display_data"
    }
   ],
   "source": [
    "train_dataset = raw_datasets[\"train\"].map(\n",
    "    lambda examples: utils.preprocess_training_examples(examples, tokenizer, CONFIG),\n",
    "    batched=True,\n",
    "    remove_columns=raw_datasets[\"train\"].column_names,\n",
    ")\n",
    "train_dataset.set_format(\"torch\")\n",
    "train_dataloader = DataLoader(\n",
    "    train_dataset,\n",
    "    shuffle=True,\n",
    "    collate_fn=default_data_collator,\n",
    "    batch_size=CONFIG[\"batch_size\"],\n",
    ")"
   ]
  },
  {
   "cell_type": "markdown",
   "metadata": {},
   "source": [
    "## Preprocess and preparing validation dataset"
   ]
  },
  {
   "cell_type": "code",
   "execution_count": 16,
   "metadata": {},
   "outputs": [
    {
     "data": {
      "application/vnd.jupyter.widget-view+json": {
       "model_id": "d4fd01b83f6f49da9368e2c61b1d102b",
       "version_major": 2,
       "version_minor": 0
      },
      "text/plain": [
       "Map:   0%|          | 0/10570 [00:00<?, ? examples/s]"
      ]
     },
     "metadata": {},
     "output_type": "display_data"
    }
   ],
   "source": [
    "validation_dataset = raw_datasets[\"validation\"].map(\n",
    "    lambda examples: utils.preprocess_validation_examples(examples, tokenizer, CONFIG),\n",
    "    batched=True,\n",
    "    remove_columns=raw_datasets[\"validation\"].column_names,\n",
    ")\n",
    "validation_set = validation_dataset.remove_columns([\"example_id\", \"offset_mapping\"])\n",
    "validation_set.set_format(\"torch\")\n",
    "eval_dataloader = DataLoader(\n",
    "    validation_set, collate_fn=default_data_collator, batch_size=CONFIG[\"batch_size\"]\n",
    ")"
   ]
  },
  {
   "cell_type": "markdown",
   "metadata": {},
   "source": [
    "# Load model and freeze/unfreeze bert layers"
   ]
  },
  {
   "cell_type": "markdown",
   "metadata": {},
   "source": [
    "You can comment out `model.freeze_distilbert()` if you want to fine-tune the bert layers as well."
   ]
  },
  {
   "cell_type": "code",
   "execution_count": 17,
   "metadata": {},
   "outputs": [
    {
     "name": "stderr",
     "output_type": "stream",
     "text": [
      "You are using a model of type distilbert to instantiate a model of type distilbertcustom. This is not supported for all configurations of models and can yield errors.\n"
     ]
    },
    {
     "data": {
      "application/vnd.jupyter.widget-view+json": {
       "model_id": "35d79d7275ef4630b53be5bf2365e3ba",
       "version_major": 2,
       "version_minor": 0
      },
      "text/plain": [
       "Downloading model.safetensors:   0%|          | 0.00/268M [00:00<?, ?B/s]"
      ]
     },
     "metadata": {},
     "output_type": "display_data"
    },
    {
     "name": "stderr",
     "output_type": "stream",
     "text": [
      "Some weights of DistilBertCustomDense were not initialized from the model checkpoint at distilbert-base-uncased and are newly initialized: ['qa_outputs.fc.bias', 'qa_outputs.fc.weight']\n",
      "You should probably TRAIN this model on a down-stream task to be able to use it for predictions and inference.\n"
     ]
    }
   ],
   "source": [
    "# Load our custom model with existing pretrained weight\n",
    "model = DistilBertCustomDense.from_pretrained(CONFIG[\"model_checkpoint\"])\n",
    "# Freeze bert part\n",
    "model.freeze_distilbert()"
   ]
  },
  {
   "cell_type": "markdown",
   "metadata": {},
   "source": [
    "# Prepare optimizer, scheduler, accelerator"
   ]
  },
  {
   "cell_type": "code",
   "execution_count": 18,
   "metadata": {},
   "outputs": [],
   "source": [
    "# Optimizer\n",
    "optimizer = AdamW(model.parameters(), lr=2e-5)"
   ]
  },
  {
   "cell_type": "code",
   "execution_count": 19,
   "metadata": {},
   "outputs": [],
   "source": [
    "# Accelerator\n",
    "accelerator = Accelerator(mixed_precision='fp16')\n",
    "model, optimizer, train_dataloader, eval_dataloader = accelerator.prepare(\n",
    "    model, optimizer, train_dataloader, eval_dataloader\n",
    ")"
   ]
  },
  {
   "cell_type": "code",
   "execution_count": 20,
   "metadata": {},
   "outputs": [],
   "source": [
    "# Scheduler\n",
    "lr_scheduler = get_scheduler(\n",
    "    \"linear\",\n",
    "    optimizer=optimizer,\n",
    "    num_warmup_steps=0,\n",
    "    num_training_steps= CONFIG[\"num_train_epochs\"] * len(train_dataloader),\n",
    ")"
   ]
  },
  {
   "cell_type": "markdown",
   "metadata": {},
   "source": [
    "# Main Training Loop"
   ]
  },
  {
   "cell_type": "code",
   "execution_count": 21,
   "metadata": {},
   "outputs": [
    {
     "data": {
      "application/vnd.jupyter.widget-view+json": {
       "model_id": "ebac4772a9dc49b6b9047668bf168ae9",
       "version_major": 2,
       "version_minor": 0
      },
      "text/plain": [
       "  0%|          | 0/5534 [00:00<?, ?it/s]"
      ]
     },
     "metadata": {},
     "output_type": "display_data"
    }
   ],
   "source": [
    "progress_bar = tqdm(range(CONFIG[\"num_train_epochs\"] * len(train_dataloader)))"
   ]
  },
  {
   "cell_type": "code",
   "execution_count": 22,
   "metadata": {},
   "outputs": [],
   "source": [
    "for epoch in range(CONFIG[\"num_train_epochs\"]):\n",
    "    # Training\n",
    "    model.train()\n",
    "    for step, batch in enumerate(train_dataloader):\n",
    "        outputs = model(**batch)\n",
    "        loss = outputs.loss\n",
    "        accelerator.backward(loss)\n",
    "\n",
    "        optimizer.step()\n",
    "        lr_scheduler.step()\n",
    "        optimizer.zero_grad()\n",
    "        progress_bar.update(1)\n",
    "\n",
    "    # Evaluation\n",
    "    model.eval()\n",
    "    start_logits = []\n",
    "    end_logits = []\n",
    "    accelerator.print(\"Evaluation!\")\n",
    "    for batch in tqdm(eval_dataloader):\n",
    "        with torch.no_grad():\n",
    "            outputs = model(**batch)\n",
    "\n",
    "        start_logits.append(accelerator.gather(outputs.start_logits).cpu().numpy())\n",
    "        end_logits.append(accelerator.gather(outputs.end_logits).cpu().numpy())\n",
    "\n",
    "    start_logits = np.concatenate(start_logits)\n",
    "    end_logits = np.concatenate(end_logits)\n",
    "    start_logits = start_logits[: len(validation_dataset)]\n",
    "    end_logits = end_logits[: len(validation_dataset)]\n",
    "\n",
    "    metrics = utils.compute_metrics(\n",
    "        CONFIG, start_logits, end_logits, validation_dataset, raw_datasets[\"validation\"]\n",
    "    )\n",
    "    print(f\"epoch {epoch}:\", metrics)\n",
    "\n",
    "    # Save model\n",
    "    accelerator.wait_for_everyone()\n",
    "    unwrapped_model = accelerator.unwrap_model(model)\n",
    "    unwrapped_model.save_pretrained(CONFIG[\"output_dir\"], save_function=accelerator.save)\n",
    "    if accelerator.is_main_process:\n",
    "        tokenizer.save_pretrained(CONFIG[\"output_dir\"])"
   ]
  },
  {
   "cell_type": "markdown",
   "metadata": {},
   "source": [
    "# Inference using trained model"
   ]
  },
  {
   "cell_type": "code",
   "execution_count": null,
   "metadata": {},
   "outputs": [],
   "source": [
    "# Import necessary classes for pipeline\n",
    "from model import DistilBertCustomDense, DistilBertCustomConfig\n",
    "from transformers import DistilBertTokenizer, AutoModelForQuestionAnswering, pipeline\n",
    "\n",
    "AutoModelForQuestionAnswering.register(DistilBertCustomConfig, DistilBertCustomDense)"
   ]
  },
  {
   "cell_type": "code",
   "execution_count": null,
   "metadata": {},
   "outputs": [
    {
     "name": "stderr",
     "output_type": "stream",
     "text": [
      "Special tokens have been added in the vocabulary, make sure the associated word embeddings are fine-tuned or trained.\n"
     ]
    },
    {
     "data": {
      "text/plain": [
       "{'score': 0.004100712016224861, 'start': 83, 'end': 90, 'answer': 'PyTorch'}"
      ]
     },
     "execution_count": 14,
     "metadata": {},
     "output_type": "execute_result"
    }
   ],
   "source": [
    "model_checkpoint = CONFIG[\"output_dir\"]\n",
    "\n",
    "model = DistilBertCustomDense.from_pretrained(model_checkpoint)\n",
    "tokenizer = DistilBertTokenizer.from_pretrained(model_checkpoint)\n",
    "question_answerer = pipeline(\"question-answering\", model=model, tokenizer=tokenizer)\n",
    "\n",
    "context = \"\"\"\n",
    "🤗 Transformers is backed by the three most popular deep learning libraries — Jax, PyTorch and TensorFlow — with a seamless integration\n",
    "between them. It's straightforward to train your models with one before loading them for inference with the other.\n",
    "\"\"\"\n",
    "question = \"Which deep learning libraries back 🤗 Transformers?\"\n",
    "question_answerer(question=question, context=context)"
   ]
  }
 ],
 "metadata": {
  "kernelspec": {
   "display_name": "nlp_proj",
   "language": "python",
   "name": "python3"
  },
  "language_info": {
   "codemirror_mode": {
    "name": "ipython",
    "version": 3
   },
   "file_extension": ".py",
   "mimetype": "text/x-python",
   "name": "python",
   "nbconvert_exporter": "python",
   "pygments_lexer": "ipython3",
   "version": "3.10.9"
  }
 },
 "nbformat": 4,
 "nbformat_minor": 2
}
