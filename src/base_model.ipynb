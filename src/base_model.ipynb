{
 "cells": [
  {
   "cell_type": "markdown",
   "metadata": {},
   "source": [
    "# Instructions to use this notebook\n",
    "This notebook follows steps from https://huggingface.co/learn/nlp-course/chapter7/7?fw=pt\n",
    "\n",
    "There are 2 other important files in the same folder:\n",
    "- model.py (contains our custom model architecture)\n",
    "- utils.py (contains our preprocessing and metric functions)\n",
    "\n",
    "If you want to define your custom dense layers at the end, you should only make changes to `CustomDenseLayers` class in `model.py`"
   ]
  },
  {
   "cell_type": "markdown",
   "metadata": {},
   "source": [
    "# Install & Import necessary libraries"
   ]
  },
  {
   "cell_type": "code",
   "execution_count": 15,
   "metadata": {},
   "outputs": [
    {
     "name": "stdout",
     "output_type": "stream",
     "text": [
      "Requirement already satisfied: datasets in /home/e/e0555956/miniconda3/envs/nlp_proj/lib/python3.11/site-packages (2.14.5)\n",
      "Requirement already satisfied: transformers in /home/e/e0555956/miniconda3/envs/nlp_proj/lib/python3.11/site-packages (4.34.0)\n",
      "Requirement already satisfied: accelerate in /home/e/e0555956/miniconda3/envs/nlp_proj/lib/python3.11/site-packages (0.23.0)\n",
      "Requirement already satisfied: evaluate in /home/e/e0555956/miniconda3/envs/nlp_proj/lib/python3.11/site-packages (0.4.1)\n",
      "Requirement already satisfied: numpy>=1.17 in /home/e/e0555956/miniconda3/envs/nlp_proj/lib/python3.11/site-packages (from datasets) (1.26.0)\n",
      "Requirement already satisfied: pyarrow>=8.0.0 in /home/e/e0555956/miniconda3/envs/nlp_proj/lib/python3.11/site-packages (from datasets) (13.0.0)\n",
      "Requirement already satisfied: dill<0.3.8,>=0.3.0 in /home/e/e0555956/miniconda3/envs/nlp_proj/lib/python3.11/site-packages (from datasets) (0.3.7)\n",
      "Requirement already satisfied: pandas in /home/e/e0555956/miniconda3/envs/nlp_proj/lib/python3.11/site-packages (from datasets) (2.1.1)\n",
      "Requirement already satisfied: requests>=2.19.0 in /home/e/e0555956/miniconda3/envs/nlp_proj/lib/python3.11/site-packages (from datasets) (2.31.0)\n",
      "Requirement already satisfied: tqdm>=4.62.1 in /home/e/e0555956/miniconda3/envs/nlp_proj/lib/python3.11/site-packages (from datasets) (4.66.1)\n",
      "Requirement already satisfied: xxhash in /home/e/e0555956/miniconda3/envs/nlp_proj/lib/python3.11/site-packages (from datasets) (3.4.1)\n",
      "Requirement already satisfied: multiprocess in /home/e/e0555956/miniconda3/envs/nlp_proj/lib/python3.11/site-packages (from datasets) (0.70.15)\n",
      "Requirement already satisfied: fsspec[http]<2023.9.0,>=2023.1.0 in /home/e/e0555956/miniconda3/envs/nlp_proj/lib/python3.11/site-packages (from datasets) (2023.6.0)\n",
      "Requirement already satisfied: aiohttp in /home/e/e0555956/miniconda3/envs/nlp_proj/lib/python3.11/site-packages (from datasets) (3.8.6)\n",
      "Requirement already satisfied: huggingface-hub<1.0.0,>=0.14.0 in /home/e/e0555956/miniconda3/envs/nlp_proj/lib/python3.11/site-packages (from datasets) (0.17.3)\n",
      "Requirement already satisfied: packaging in /home/e/e0555956/miniconda3/envs/nlp_proj/lib/python3.11/site-packages (from datasets) (23.2)\n",
      "Requirement already satisfied: pyyaml>=5.1 in /home/e/e0555956/miniconda3/envs/nlp_proj/lib/python3.11/site-packages (from datasets) (6.0)\n",
      "Requirement already satisfied: filelock in /home/e/e0555956/miniconda3/envs/nlp_proj/lib/python3.11/site-packages (from transformers) (3.9.0)\n",
      "Requirement already satisfied: regex!=2019.12.17 in /home/e/e0555956/miniconda3/envs/nlp_proj/lib/python3.11/site-packages (from transformers) (2023.10.3)\n",
      "Requirement already satisfied: tokenizers<0.15,>=0.14 in /home/e/e0555956/miniconda3/envs/nlp_proj/lib/python3.11/site-packages (from transformers) (0.14.1)\n",
      "Requirement already satisfied: safetensors>=0.3.1 in /home/e/e0555956/miniconda3/envs/nlp_proj/lib/python3.11/site-packages (from transformers) (0.4.0)\n",
      "Requirement already satisfied: psutil in /home/e/e0555956/miniconda3/envs/nlp_proj/lib/python3.11/site-packages (from accelerate) (5.9.0)\n",
      "Requirement already satisfied: torch>=1.10.0 in /home/e/e0555956/miniconda3/envs/nlp_proj/lib/python3.11/site-packages (from accelerate) (2.1.0)\n",
      "Requirement already satisfied: responses<0.19 in /home/e/e0555956/miniconda3/envs/nlp_proj/lib/python3.11/site-packages (from evaluate) (0.18.0)\n",
      "Requirement already satisfied: attrs>=17.3.0 in /home/e/e0555956/miniconda3/envs/nlp_proj/lib/python3.11/site-packages (from aiohttp->datasets) (23.1.0)\n",
      "Requirement already satisfied: charset-normalizer<4.0,>=2.0 in /home/e/e0555956/miniconda3/envs/nlp_proj/lib/python3.11/site-packages (from aiohttp->datasets) (2.0.4)\n",
      "Requirement already satisfied: multidict<7.0,>=4.5 in /home/e/e0555956/miniconda3/envs/nlp_proj/lib/python3.11/site-packages (from aiohttp->datasets) (6.0.4)\n",
      "Requirement already satisfied: async-timeout<5.0,>=4.0.0a3 in /home/e/e0555956/miniconda3/envs/nlp_proj/lib/python3.11/site-packages (from aiohttp->datasets) (4.0.3)\n",
      "Requirement already satisfied: yarl<2.0,>=1.0 in /home/e/e0555956/miniconda3/envs/nlp_proj/lib/python3.11/site-packages (from aiohttp->datasets) (1.9.2)\n",
      "Requirement already satisfied: frozenlist>=1.1.1 in /home/e/e0555956/miniconda3/envs/nlp_proj/lib/python3.11/site-packages (from aiohttp->datasets) (1.4.0)\n",
      "Requirement already satisfied: aiosignal>=1.1.2 in /home/e/e0555956/miniconda3/envs/nlp_proj/lib/python3.11/site-packages (from aiohttp->datasets) (1.3.1)\n",
      "Requirement already satisfied: typing-extensions>=3.7.4.3 in /home/e/e0555956/miniconda3/envs/nlp_proj/lib/python3.11/site-packages (from huggingface-hub<1.0.0,>=0.14.0->datasets) (4.7.1)\n",
      "Requirement already satisfied: idna<4,>=2.5 in /home/e/e0555956/miniconda3/envs/nlp_proj/lib/python3.11/site-packages (from requests>=2.19.0->datasets) (3.4)\n",
      "Requirement already satisfied: urllib3<3,>=1.21.1 in /home/e/e0555956/miniconda3/envs/nlp_proj/lib/python3.11/site-packages (from requests>=2.19.0->datasets) (1.26.16)\n",
      "Requirement already satisfied: certifi>=2017.4.17 in /home/e/e0555956/miniconda3/envs/nlp_proj/lib/python3.11/site-packages (from requests>=2.19.0->datasets) (2023.7.22)\n",
      "Requirement already satisfied: sympy in /home/e/e0555956/miniconda3/envs/nlp_proj/lib/python3.11/site-packages (from torch>=1.10.0->accelerate) (1.11.1)\n",
      "Requirement already satisfied: networkx in /home/e/e0555956/miniconda3/envs/nlp_proj/lib/python3.11/site-packages (from torch>=1.10.0->accelerate) (3.1)\n",
      "Requirement already satisfied: jinja2 in /home/e/e0555956/miniconda3/envs/nlp_proj/lib/python3.11/site-packages (from torch>=1.10.0->accelerate) (3.1.2)\n",
      "Requirement already satisfied: python-dateutil>=2.8.2 in /home/e/e0555956/miniconda3/envs/nlp_proj/lib/python3.11/site-packages (from pandas->datasets) (2.8.2)\n",
      "Requirement already satisfied: pytz>=2020.1 in /home/e/e0555956/miniconda3/envs/nlp_proj/lib/python3.11/site-packages (from pandas->datasets) (2023.3.post1)\n",
      "Requirement already satisfied: tzdata>=2022.1 in /home/e/e0555956/miniconda3/envs/nlp_proj/lib/python3.11/site-packages (from pandas->datasets) (2023.3)\n",
      "Requirement already satisfied: six>=1.5 in /home/e/e0555956/miniconda3/envs/nlp_proj/lib/python3.11/site-packages (from python-dateutil>=2.8.2->pandas->datasets) (1.16.0)\n",
      "Requirement already satisfied: MarkupSafe>=2.0 in /home/e/e0555956/miniconda3/envs/nlp_proj/lib/python3.11/site-packages (from jinja2->torch>=1.10.0->accelerate) (2.1.1)\n",
      "Requirement already satisfied: mpmath>=0.19 in /home/e/e0555956/miniconda3/envs/nlp_proj/lib/python3.11/site-packages (from sympy->torch>=1.10.0->accelerate) (1.3.0)\n"
     ]
    }
   ],
   "source": [
    "# Install Hugging Face libraries\n",
    "! pip install datasets transformers accelerate evaluate"
   ]
  },
  {
   "cell_type": "code",
   "execution_count": 1,
   "metadata": {},
   "outputs": [
    {
     "name": "stderr",
     "output_type": "stream",
     "text": [
      "/home/e/e0555956/miniconda3/envs/nlp_proj/lib/python3.11/site-packages/tqdm/auto.py:21: TqdmWarning: IProgress not found. Please update jupyter and ipywidgets. See https://ipywidgets.readthedocs.io/en/stable/user_install.html\n",
      "  from .autonotebook import tqdm as notebook_tqdm\n"
     ]
    }
   ],
   "source": [
    "# Import Std and Huggingface libraries\n",
    "from tqdm.auto import tqdm\n",
    "import numpy as np\n",
    "\n",
    "import torch\n",
    "from torch.optim import AdamW\n",
    "from torch.utils.data import DataLoader\n",
    "\n",
    "from datasets import load_dataset\n",
    "from transformers import default_data_collator, get_scheduler\n",
    "from transformers import AutoTokenizer\n",
    "from accelerate import Accelerator"
   ]
  },
  {
   "cell_type": "markdown",
   "metadata": {},
   "source": [
    "Please RERUN the below cell whenever you make changes to `model.py` or `utils.py` file."
   ]
  },
  {
   "cell_type": "code",
   "execution_count": 2,
   "metadata": {},
   "outputs": [],
   "source": [
    "# Import custom models and helper functions\n",
    "%load_ext autoreload\n",
    "%autoreload 2\n",
    "from model import DistilBertCustomDense\n",
    "import utils"
   ]
  },
  {
   "cell_type": "markdown",
   "metadata": {},
   "source": [
    "# Set seed and global variables"
   ]
  },
  {
   "cell_type": "code",
   "execution_count": 3,
   "metadata": {},
   "outputs": [],
   "source": [
    "### Set seed\n",
    "torch.manual_seed(42)\n",
    "np.random.seed(42)"
   ]
  },
  {
   "cell_type": "code",
   "execution_count": 4,
   "metadata": {},
   "outputs": [],
   "source": [
    "### Global configuration\n",
    "CONFIG = {\n",
    "    # For pretrained weight\n",
    "    \"model_checkpoint\": \"distilbert-base-uncased\", # specify pretrained weight from hugging face to use\n",
    "    # For data preprocessing\n",
    "    \"max_length\": 384,\n",
    "    \"stride\": 128,\n",
    "    # For training\n",
    "    \"batch_size\": 32,\n",
    "    \"num_train_epochs\": 2,\n",
    "    \"output_dir\": \"frozen-distilbert-custom\", # specify output directory to save model\n",
    "    # For evaluation\n",
    "    \"n_best\": 20,\n",
    "    \"max_answer_length\": 30\n",
    "}"
   ]
  },
  {
   "cell_type": "code",
   "execution_count": 5,
   "metadata": {},
   "outputs": [],
   "source": [
    "### Load tokenizer\n",
    "tokenizer = AutoTokenizer.from_pretrained(CONFIG[\"model_checkpoint\"])"
   ]
  },
  {
   "cell_type": "markdown",
   "metadata": {},
   "source": [
    "# Data preprocessing and preparation"
   ]
  },
  {
   "cell_type": "markdown",
   "metadata": {},
   "source": [
    "## Preprocess and preparing training dataset"
   ]
  },
  {
   "cell_type": "code",
   "execution_count": null,
   "metadata": {},
   "outputs": [],
   "source": [
    "raw_datasets = load_dataset(\"squad\")"
   ]
  },
  {
   "cell_type": "code",
   "execution_count": 6,
   "metadata": {},
   "outputs": [
    {
     "name": "stderr",
     "output_type": "stream",
     "text": [
      "Map: 100%|██████████| 87599/87599 [00:31<00:00, 2786.48 examples/s]\n"
     ]
    }
   ],
   "source": [
    "train_dataset = raw_datasets[\"train\"].map(\n",
    "    lambda examples: utils.preprocess_training_examples(examples, tokenizer, CONFIG),\n",
    "    batched=True,\n",
    "    remove_columns=raw_datasets[\"train\"].column_names,\n",
    ")\n",
    "train_dataset.set_format(\"torch\")\n",
    "train_dataloader = DataLoader(\n",
    "    train_dataset,\n",
    "    shuffle=True,\n",
    "    collate_fn=default_data_collator,\n",
    "    batch_size=CONFIG[\"batch_size\"],\n",
    ")"
   ]
  },
  {
   "cell_type": "markdown",
   "metadata": {},
   "source": [
    "## Preprocess and preparing validation dataset"
   ]
  },
  {
   "cell_type": "code",
   "execution_count": 7,
   "metadata": {},
   "outputs": [
    {
     "name": "stderr",
     "output_type": "stream",
     "text": [
      "Map: 100%|██████████| 10570/10570 [00:05<00:00, 1949.82 examples/s]\n"
     ]
    }
   ],
   "source": [
    "validation_dataset = raw_datasets[\"validation\"].map(\n",
    "    lambda examples: utils.preprocess_validation_examples(examples, tokenizer, CONFIG),\n",
    "    batched=True,\n",
    "    remove_columns=raw_datasets[\"validation\"].column_names,\n",
    ")\n",
    "validation_set = validation_dataset.remove_columns([\"example_id\", \"offset_mapping\"])\n",
    "validation_set.set_format(\"torch\")\n",
    "eval_dataloader = DataLoader(\n",
    "    validation_set, collate_fn=default_data_collator, batch_size=CONFIG[\"batch_size\"]\n",
    ")"
   ]
  },
  {
   "cell_type": "markdown",
   "metadata": {},
   "source": [
    "# Load model and freeze/unfreeze bert layers"
   ]
  },
  {
   "cell_type": "markdown",
   "metadata": {},
   "source": [
    "You can comment out `model.freeze_distilbert()` if you want to fine-tune the bert layers as well."
   ]
  },
  {
   "cell_type": "code",
   "execution_count": 8,
   "metadata": {},
   "outputs": [
    {
     "name": "stderr",
     "output_type": "stream",
     "text": [
      "You are using a model of type distilbert to instantiate a model of type distilbertcustom. This is not supported for all configurations of models and can yield errors.\n",
      "Some weights of DistilBertCustomDense were not initialized from the model checkpoint at distilbert-base-uncased and are newly initialized: ['qa_outputs.fc.weight', 'qa_outputs.fc.bias']\n",
      "You should probably TRAIN this model on a down-stream task to be able to use it for predictions and inference.\n"
     ]
    }
   ],
   "source": [
    "# Load our custom model with existing pretrained weight\n",
    "model = DistilBertCustomDense.from_pretrained(CONFIG[\"model_checkpoint\"])\n",
    "# Freeze bert part\n",
    "model.freeze_distilbert()"
   ]
  },
  {
   "cell_type": "markdown",
   "metadata": {},
   "source": [
    "# Prepare optimizer, scheduler, accelerator"
   ]
  },
  {
   "cell_type": "code",
   "execution_count": 9,
   "metadata": {},
   "outputs": [],
   "source": [
    "# Optimizer\n",
    "optimizer = AdamW(model.parameters(), lr=2e-5)"
   ]
  },
  {
   "cell_type": "code",
   "execution_count": 10,
   "metadata": {},
   "outputs": [],
   "source": [
    "# Accelerator\n",
    "accelerator = Accelerator(mixed_precision='fp16')\n",
    "model, optimizer, train_dataloader, eval_dataloader = accelerator.prepare(\n",
    "    model, optimizer, train_dataloader, eval_dataloader\n",
    ")"
   ]
  },
  {
   "cell_type": "code",
   "execution_count": 11,
   "metadata": {},
   "outputs": [],
   "source": [
    "# Scheduler\n",
    "lr_scheduler = get_scheduler(\n",
    "    \"linear\",\n",
    "    optimizer=optimizer,\n",
    "    num_warmup_steps=0,\n",
    "    num_training_steps= CONFIG[\"num_train_epochs\"] * len(train_dataloader),\n",
    ")"
   ]
  },
  {
   "cell_type": "markdown",
   "metadata": {},
   "source": [
    "# Main Training Loop"
   ]
  },
  {
   "cell_type": "code",
   "execution_count": null,
   "metadata": {},
   "outputs": [],
   "source": [
    "progress_bar = tqdm(range(CONFIG[\"num_train_epochs\"] * len(train_dataloader)))"
   ]
  },
  {
   "cell_type": "code",
   "execution_count": 12,
   "metadata": {},
   "outputs": [
    {
     "name": "stderr",
     "output_type": "stream",
     "text": [
      "  0%|          | 0/5534 [00:00<?, ?it/s]"
     ]
    },
    {
     "name": "stderr",
     "output_type": "stream",
     "text": [
      " 50%|████▉     | 2766/5534 [05:39<05:44,  8.04it/s]"
     ]
    },
    {
     "name": "stdout",
     "output_type": "stream",
     "text": [
      "Evaluation!\n"
     ]
    },
    {
     "name": "stderr",
     "output_type": "stream",
     "text": [
      "100%|██████████| 337/337 [00:37<00:00,  9.01it/s]\n",
      "100%|██████████| 10570/10570 [00:14<00:00, 710.06it/s]\n"
     ]
    },
    {
     "name": "stdout",
     "output_type": "stream",
     "text": [
      "epoch 0: {'exact_match': 1.608325449385052, 'f1': 7.281976176451196}\n"
     ]
    },
    {
     "name": "stderr",
     "output_type": "stream",
     "text": [
      "100%|█████████▉| 5533/5534 [12:28<00:00,  7.98it/s]   "
     ]
    },
    {
     "name": "stdout",
     "output_type": "stream",
     "text": [
      "Evaluation!\n"
     ]
    },
    {
     "name": "stderr",
     "output_type": "stream",
     "text": [
      "100%|██████████| 337/337 [00:37<00:00,  9.03it/s]\n",
      "100%|██████████| 10570/10570 [00:14<00:00, 715.89it/s]\n"
     ]
    },
    {
     "name": "stdout",
     "output_type": "stream",
     "text": [
      "epoch 1: {'exact_match': 2.166508987701041, 'f1': 8.142934759430274}\n"
     ]
    }
   ],
   "source": [
    "for epoch in range(CONFIG[\"num_train_epochs\"]):\n",
    "    # Training\n",
    "    model.train()\n",
    "    for step, batch in enumerate(train_dataloader):\n",
    "        outputs = model(**batch)\n",
    "        loss = outputs.loss\n",
    "        accelerator.backward(loss)\n",
    "\n",
    "        optimizer.step()\n",
    "        lr_scheduler.step()\n",
    "        optimizer.zero_grad()\n",
    "        progress_bar.update(1)\n",
    "\n",
    "    # Evaluation\n",
    "    model.eval()\n",
    "    start_logits = []\n",
    "    end_logits = []\n",
    "    accelerator.print(\"Evaluation!\")\n",
    "    for batch in tqdm(eval_dataloader):\n",
    "        with torch.no_grad():\n",
    "            outputs = model(**batch)\n",
    "\n",
    "        start_logits.append(accelerator.gather(outputs.start_logits).cpu().numpy())\n",
    "        end_logits.append(accelerator.gather(outputs.end_logits).cpu().numpy())\n",
    "\n",
    "    start_logits = np.concatenate(start_logits)\n",
    "    end_logits = np.concatenate(end_logits)\n",
    "    start_logits = start_logits[: len(validation_dataset)]\n",
    "    end_logits = end_logits[: len(validation_dataset)]\n",
    "\n",
    "    metrics = utils.compute_metrics(\n",
    "        CONFIG, start_logits, end_logits, validation_dataset, raw_datasets[\"validation\"]\n",
    "    )\n",
    "    print(f\"epoch {epoch}:\", metrics)\n",
    "\n",
    "    # Save model\n",
    "    accelerator.wait_for_everyone()\n",
    "    unwrapped_model = accelerator.unwrap_model(model)\n",
    "    unwrapped_model.save_pretrained(CONFIG[\"output_dir\"], save_function=accelerator.save)\n",
    "    if accelerator.is_main_process:\n",
    "        tokenizer.save_pretrained(CONFIG[\"output_dir\"])"
   ]
  },
  {
   "cell_type": "markdown",
   "metadata": {},
   "source": [
    "# Inference using trained model"
   ]
  },
  {
   "cell_type": "code",
   "execution_count": 13,
   "metadata": {},
   "outputs": [],
   "source": [
    "# Import necessary classes for pipeline\n",
    "from model import DistilBertCustomDense, DistilBertCustomConfig\n",
    "from transformers import DistilBertTokenizer, AutoModelForQuestionAnswering, pipeline\n",
    "\n",
    "AutoModelForQuestionAnswering.register(DistilBertCustomConfig, DistilBertCustomDense)"
   ]
  },
  {
   "cell_type": "code",
   "execution_count": 14,
   "metadata": {},
   "outputs": [
    {
     "name": "stderr",
     "output_type": "stream",
     "text": [
      "Special tokens have been added in the vocabulary, make sure the associated word embeddings are fine-tuned or trained.\n"
     ]
    },
    {
     "data": {
      "text/plain": [
       "{'score': 0.004100712016224861, 'start': 83, 'end': 90, 'answer': 'PyTorch'}"
      ]
     },
     "execution_count": 14,
     "metadata": {},
     "output_type": "execute_result"
    }
   ],
   "source": [
    "model_checkpoint = CONFIG[\"output_dir\"]\n",
    "\n",
    "model = DistilBertCustomDense.from_pretrained(model_checkpoint)\n",
    "tokenizer = DistilBertTokenizer.from_pretrained(model_checkpoint)\n",
    "question_answerer = pipeline(\"question-answering\", model=model, tokenizer=tokenizer)\n",
    "\n",
    "context = \"\"\"\n",
    "🤗 Transformers is backed by the three most popular deep learning libraries — Jax, PyTorch and TensorFlow — with a seamless integration\n",
    "between them. It's straightforward to train your models with one before loading them for inference with the other.\n",
    "\"\"\"\n",
    "question = \"Which deep learning libraries back 🤗 Transformers?\"\n",
    "question_answerer(question=question, context=context)"
   ]
  }
 ],
 "metadata": {
  "kernelspec": {
   "display_name": "nlp_proj",
   "language": "python",
   "name": "python3"
  },
  "language_info": {
   "codemirror_mode": {
    "name": "ipython",
    "version": 3
   },
   "file_extension": ".py",
   "mimetype": "text/x-python",
   "name": "python",
   "nbconvert_exporter": "python",
   "pygments_lexer": "ipython3",
   "version": "3.11.5"
  }
 },
 "nbformat": 4,
 "nbformat_minor": 2
}
